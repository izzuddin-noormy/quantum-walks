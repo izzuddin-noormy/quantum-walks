{
  "cells": [
    {
      "cell_type": "markdown",
      "metadata": {
        "id": "view-in-github",
        "colab_type": "text"
      },
      "source": [
        "<a href=\"https://colab.research.google.com/github/izzuddin-noormy/quantum-walks/blob/main/quantum_walks.ipynb\" target=\"_parent\"><img src=\"https://colab.research.google.com/assets/colab-badge.svg\" alt=\"Open In Colab\"/></a>"
      ]
    },
    {
      "cell_type": "markdown",
      "metadata": {
        "id": "iYH3gwEvOqvX"
      },
      "source": [
        "##### Copyright 2020 The Cirq Developers"
      ]
    },
    {
      "cell_type": "code",
      "execution_count": null,
      "metadata": {
        "cellView": "form",
        "id": "Erl81n6SOtEa"
      },
      "outputs": [],
      "source": [
        "#@title Licensed under the Apache License, Version 2.0 (the \"License\");\n",
        "# you may not use this file except in compliance with the License.\n",
        "# You may obtain a copy of the License at\n",
        "#\n",
        "# https://www.apache.org/licenses/LICENSE-2.0\n",
        "#\n",
        "# Unless required by applicable law or agreed to in writing, software\n",
        "# distributed under the License is distributed on an \"AS IS\" BASIS,\n",
        "# WITHOUT WARRANTIES OR CONDITIONS OF ANY KIND, either express or implied.\n",
        "# See the License for the specific language governing permissions and\n",
        "# limitations under the License."
      ]
    },
    {
      "cell_type": "markdown",
      "metadata": {
        "id": "7zcj-vQjeSIG"
      },
      "source": [
        "# Quantum walk"
      ]
    },
    {
      "cell_type": "markdown",
      "metadata": {
        "id": "d8L1flwtOyRO"
      },
      "source": [
        "<table class=\"tfo-notebook-buttons\" align=\"left\">\n",
        "  <td>\n",
        "    <a target=\"_blank\" href=\"https://quantumai.google/cirq/experiments/quantum_walks\"><img src=\"https://quantumai.google/site-assets/images/buttons/quantumai_logo_1x.png\" />View on QuantumAI</a>\n",
        "  </td>\n",
        "  <td>\n",
        "    <a target=\"_blank\" href=\"https://colab.research.google.com/github/quantumlib/Cirq/blob/main/docs/experiments/quantum_walks.ipynb\"><img src=\"https://quantumai.google/site-assets/images/buttons/colab_logo_1x.png\" />Run in Google Colab</a>\n",
        "  </td>\n",
        "  <td>\n",
        "    <a target=\"_blank\" href=\"https://github.com/quantumlib/Cirq/blob/main/docs/experiments/quantum_walks.ipynb\"><img src=\"https://quantumai.google/site-assets/images/buttons/github_logo_1x.png\" />View source on GitHub</a>\n",
        "  </td>\n",
        "  <td>\n",
        "    <a href=\"https://storage.googleapis.com/tensorflow_docs/Cirq/docs/experiments/quantum_walks.ipynb\"><img src=\"https://quantumai.google/site-assets/images/buttons/download_icon_1x.png\" />Download notebook</a>\n",
        "  </td>\n",
        "</table>"
      ]
    },
    {
      "cell_type": "markdown",
      "metadata": {
        "id": "3bsnVzxteSIH"
      },
      "source": [
        "The goal of this Notebook is to provide an interesting exposition to simulating quantum computational processes with Cirq. We will be investigating a very fundamental and interesting idea within quantum computing called the **quantum walk**, starting off with some information on classical random walks, and then building upon that knowledge to understand exactly what a quantum walk is, all while simulating the processes that are outlined mathematically with Cirq.\n",
        "\n",
        "In order to get started, we first need to import these libraries:"
      ]
    },
    {
      "cell_type": "code",
      "execution_count": null,
      "metadata": {
        "id": "N2TQMpwkeSIH",
        "outputId": "d364854c-a544-4550-da99-b3427aa59a66",
        "colab": {
          "base_uri": "https://localhost:8080/"
        }
      },
      "outputs": [
        {
          "output_type": "stream",
          "name": "stdout",
          "text": [
            "installing cirq...\n",
            "\u001b[2K     \u001b[90m━━━━━━━━━━━━━━━━━━━━━━━━━━━━━━━━━━━━━━━━\u001b[0m \u001b[32m45.6/45.6 kB\u001b[0m \u001b[31m733.2 kB/s\u001b[0m eta \u001b[36m0:00:00\u001b[0m\n",
            "\u001b[?25h  Preparing metadata (setup.py) ... \u001b[?25l\u001b[?25hdone\n",
            "\u001b[2K   \u001b[90m━━━━━━━━━━━━━━━━━━━━━━━━━━━━━━━━━━━━━━━━\u001b[0m \u001b[32m1.9/1.9 MB\u001b[0m \u001b[31m10.2 MB/s\u001b[0m eta \u001b[36m0:00:00\u001b[0m\n",
            "\u001b[2K   \u001b[90m━━━━━━━━━━━━━━━━━━━━━━━━━━━━━━━━━━━━━━━━\u001b[0m \u001b[32m532.7/532.7 kB\u001b[0m \u001b[31m29.7 MB/s\u001b[0m eta \u001b[36m0:00:00\u001b[0m\n",
            "\u001b[2K   \u001b[90m━━━━━━━━━━━━━━━━━━━━━━━━━━━━━━━━━━━━━━━━\u001b[0m \u001b[32m60.5/60.5 kB\u001b[0m \u001b[31m3.7 MB/s\u001b[0m eta \u001b[36m0:00:00\u001b[0m\n",
            "\u001b[2K   \u001b[90m━━━━━━━━━━━━━━━━━━━━━━━━━━━━━━━━━━━━━━━━\u001b[0m \u001b[32m69.3/69.3 kB\u001b[0m \u001b[31m4.6 MB/s\u001b[0m eta \u001b[36m0:00:00\u001b[0m\n",
            "\u001b[2K   \u001b[90m━━━━━━━━━━━━━━━━━━━━━━━━━━━━━━━━━━━━━━━━\u001b[0m \u001b[32m596.5/596.5 kB\u001b[0m \u001b[31m33.3 MB/s\u001b[0m eta \u001b[36m0:00:00\u001b[0m\n",
            "\u001b[2K   \u001b[90m━━━━━━━━━━━━━━━━━━━━━━━━━━━━━━━━━━━━━━━━\u001b[0m \u001b[32m202.8/202.8 kB\u001b[0m \u001b[31m12.3 MB/s\u001b[0m eta \u001b[36m0:00:00\u001b[0m\n",
            "\u001b[2K   \u001b[90m━━━━━━━━━━━━━━━━━━━━━━━━━━━━━━━━━━━━━━━━\u001b[0m \u001b[32m6.8/6.8 MB\u001b[0m \u001b[31m56.3 MB/s\u001b[0m eta \u001b[36m0:00:00\u001b[0m\n",
            "\u001b[2K   \u001b[90m━━━━━━━━━━━━━━━━━━━━━━━━━━━━━━━━━━━━━━━━\u001b[0m \u001b[32m53.0/53.0 kB\u001b[0m \u001b[31m3.5 MB/s\u001b[0m eta \u001b[36m0:00:00\u001b[0m\n",
            "\u001b[2K   \u001b[90m━━━━━━━━━━━━━━━━━━━━━━━━━━━━━━━━━━━━━━━━\u001b[0m \u001b[32m2.0/2.0 MB\u001b[0m \u001b[31m61.3 MB/s\u001b[0m eta \u001b[36m0:00:00\u001b[0m\n",
            "\u001b[2K   \u001b[90m━━━━━━━━━━━━━━━━━━━━━━━━━━━━━━━━━━━━━━━━\u001b[0m \u001b[32m1.7/1.7 MB\u001b[0m \u001b[31m59.5 MB/s\u001b[0m eta \u001b[36m0:00:00\u001b[0m\n",
            "\u001b[2K   \u001b[90m━━━━━━━━━━━━━━━━━━━━━━━━━━━━━━━━━━━━━━━━\u001b[0m \u001b[32m117.8/117.8 kB\u001b[0m \u001b[31m7.0 MB/s\u001b[0m eta \u001b[36m0:00:00\u001b[0m\n",
            "\u001b[2K   \u001b[90m━━━━━━━━━━━━━━━━━━━━━━━━━━━━━━━━━━━━━━━━\u001b[0m \u001b[32m526.7/526.7 kB\u001b[0m \u001b[31m29.7 MB/s\u001b[0m eta \u001b[36m0:00:00\u001b[0m\n",
            "\u001b[?25h  Building wheel for rpcq (setup.py) ... \u001b[?25l\u001b[?25hdone\n",
            "installed cirq.\n"
          ]
        }
      ],
      "source": [
        "try:\n",
        "    import cirq\n",
        "except ImportError:\n",
        "    print(\"installing cirq...\")\n",
        "    !pip install --quiet cirq\n",
        "    print(\"installed cirq.\")\n",
        "    import cirq\n",
        "\n",
        "import random\n",
        "import numpy as np\n",
        "from matplotlib import pyplot as plt\n",
        "import scipy\n",
        "import scipy.special"
      ]
    },
    {
      "cell_type": "markdown",
      "metadata": {
        "id": "3fQJ_NnLeSIL"
      },
      "source": [
        "First, we'll need `cirq`. The `random` library is used to simulate our classical random walk, `matplotlib` is used to create graphs, and `numpy` and `scipy` are used for processing vectors, matrices, and more.\n",
        "\n",
        "Before we get started with quantum walks, let's first look into it's classical counterpart, and understand what a \"walk\" truly is:"
      ]
    },
    {
      "cell_type": "markdown",
      "metadata": {
        "id": "yaKGvbmieSIL"
      },
      "source": [
        "## Classical random walks\n",
        "\n",
        "A random walk is a random process involving a \"walker\" that is placed in some $n$-dimensional medium, like a grid or a graph.\n",
        "We then repeatedly query some random variable, and based on the outcome of our measurement,\n",
        "the walker's position vector (position on the graph or grid) is updated. A basic example of a random walk is\n",
        "the one-dimensional graphical case, where we consider a marker placed on the origin of a number line with markings\n",
        "at each of the integers. Let the initial position vector of our marker be $\\lvert 0\\rangle$. For $N$ steps of our\n",
        "random walk, take a set of $N$ random variables $\\{X_1, \\ ..., \\ X_N\\}$, which can take on either a value of\n",
        "$1$ or $-1$ with equal probability. To find the updated position vector of our walker, we compute\n",
        "the value:\n",
        "\n",
        "$$j \\ = \\ \\displaystyle\\sum_{k \\ = \\ 1}^{N} \\ X_k$$\n",
        "\n",
        "Where we know:\n",
        "\n",
        "\n",
        "$$\\lvert \\text{Final}\\rangle \\ = \\ \\lvert \\text{Initial} \\ + \\ j\\rangle$$\n",
        "\n",
        "\n",
        "So for our case, the final position vector is $\\lvert j\\rangle$. This model of a random walk can\n",
        "be generalized to $n$-dimensions.\n",
        "\n",
        "\n",
        "Another important fact to note is that for a discrete, 1-dimensional random\n",
        "walk on a number-line-like graph, the probability of the random walker being at a specific location follows\n",
        "a [binomial distribution](https://en.wikipedia.org/wiki/Binomial_distribution). Let us define an $N$-step random walk. Let us then assert that $N \\ = \\ L \\ + \\ R$,\n",
        "where $L$ is the number of steps to the left, and $R$ is the number of steps to the right. We can then reason\n",
        "that if there is some probability $p_{r}$ of the walker taking a rightward step at one time-step of the random\n",
        "walk, the probability of taking a leftward step is given by $1 \\ - \\ p_{r}$. It follows that the probability\n",
        "of taking $L \\ = \\ N \\ - \\ R$ leftward steps, and $R$ rightward steps in a random walk of $N$ total steps is:\n",
        "\n",
        "\n",
        "$$P(N, \\ R) \\ = \\ p_{r}^R (1 \\ - \\ p_{r})^{N \\ - \\ R}$$"
      ]
    },
    {
      "cell_type": "markdown",
      "metadata": {
        "id": "PJt5xHNEeSIM"
      },
      "source": [
        "We then have to consider the probability that for an $N$ step random walk, our walker ends up at position\n",
        "$X \\ = \\ R \\ - \\ L$. Well, we know the probability of taking $L$ left steps and $R$ right steps, and we know\n",
        "that for a random walk of $N$ steps, the position of the walker is determined by the number of right steps,\n",
        "minus the number of left steps. Since it doesn't matter the order in which the sequence of $N$ steps occurs,\n",
        "to find the total probability of being at some location, $P(X)$, we have to multiply the probability $P(L, \\ R)$\n",
        "by the number of possible ways in which $L$ left steps and $R$ right steps can be arranged in a sequence.\n",
        "Well, since we have $N$ total steps, we can \"choose\" $R$ of those steps to be allocated to rightward steps,\n",
        "and automatically know that the remaining $N \\ - \\ R$ steps were left steps. We calculate $N$ \"choose\" $R$\n",
        "steps by calculating the binomial coefficient, therefore getting:\n",
        "\n",
        "\n",
        "$$P_{N}(X) \\ = \\ \\begin{pmatrix} N \\\\ R \\end{pmatrix} \\ p_{r}^R (1 \\ - \\ p_{r})^{N \\ - \\ R} \\Rightarrow \\ X \\ = \\ R \\ - \\ L \\ \\Rightarrow \\ P_{N}(X) \\ = \\ \\begin{pmatrix} N \\\\ \\frac{N \\ + \\ X}{2} \\end{pmatrix} \\ p_{r}^{\\frac{N \\ + \\ X}{2}} (1 \\ - \\ p_{r})^{\\frac{N \\ - \\ X}{2}}$$\n",
        "\n",
        "It is important to note that this only holds true for **even numbers** if the total number of steps taken is even, and **odd numbers** if the total number of steps taken is odd. This is due to the fact that if we set the number of steps that the random walk can take to $N$, then as we previously demonstrated, $L \\ + \\ R \\ = \\ N$ and $R \\ - \\ L \\ = \\ X$. Combining these two equations, we get, just like in the equation above:\n",
        "\n",
        "$$R \\ = \\ \\frac{X \\ + \\ N}{2}$$\n",
        "\n",
        "But $R$ must be an integer, thus $X \\ + \\ N$. Must be even. It follows that if $N$ is odd, then $X$ must also be odd to make an even number, and if $N$ is even, $X$ must also be even. From this, we come to the conclusion that if we have an even $N$, the probability of being at a position $X$ that is an odd value is $0$, and if $N$ is odd, then the probability of $X$ being even is $0$.\n",
        "\n",
        "And so we have shown that the probability distribution for the position of the walker for an $N$ step random\n",
        "walk is given by a binomial distribution on the domain of the even or the odd numbers. This fact is important, as we will show that the probability distribution that is created when a quantum walk is simulated is nowhere close to the binomial distribution that we expect to see for a classical 1-dimensional random walk.\n",
        "\n",
        "If you don't believe me and/or the math, we can visualize this a bit better by coding up a simple program! We will define a one-dimensional random walk, starting at the point $0$ on the integer number line. We will then repeatedly \"flip a coin\", and move left and right down the number line accordingly:"
      ]
    },
    {
      "cell_type": "code",
      "execution_count": null,
      "metadata": {
        "id": "JdHKQbHUeSIM",
        "outputId": "8e0266d0-2937-4485-8fb0-3e25744b3019",
        "colab": {
          "base_uri": "https://localhost:8080/"
        }
      },
      "outputs": [
        {
          "output_type": "stream",
          "name": "stdout",
          "text": [
            "The walker is located at: x = 8\n"
          ]
        }
      ],
      "source": [
        "# Defines all of the necessary parameters\n",
        "\n",
        "N = 50    # Defines the total number of steps our walker will take\n",
        "pr = 0.5  # Defines the probability of our walker stepping to the right\n",
        "i = 0     # Defines the initial position of our walker\n",
        "\n",
        "def random_walk(pr, N, i):\n",
        "\n",
        "    position = i\n",
        "\n",
        "    # Repeatedly queries our random variable and moves our walker for the specified number of steps\n",
        "\n",
        "    for j in range(N):\n",
        "\n",
        "        coin_flip = list(np.random.choice(2, 1, p=[1-pr, pr])) # Flips our weighted coin\n",
        "        position += 2*coin_flip[0]-1 # Moves our walker according to the coin flip\n",
        "\n",
        "    return position\n",
        "\n",
        "print(\"The walker is located at: x = {var}\".format(var = random_walk(pr, N, i)))"
      ]
    },
    {
      "cell_type": "markdown",
      "metadata": {
        "id": "HE7mHryDeSIP"
      },
      "source": [
        "Now, let's attempt to generate the probability distribution corresponding to the walker's position, and make sure that it checks out with our math:"
      ]
    },
    {
      "cell_type": "code",
      "execution_count": null,
      "metadata": {
        "id": "IGjuG7aaeSIQ",
        "outputId": "21d23789-514d-4a9b-fef5-136cdc314dc5",
        "colab": {
          "base_uri": "https://localhost:8080/",
          "height": 435
        }
      },
      "outputs": [
        {
          "output_type": "display_data",
          "data": {
            "text/plain": [
              "<Figure size 640x480 with 1 Axes>"
            ],
            "image/png": "[encoded data removed]"
          },
          "metadata": {}
        }
      ],
      "source": [
        "def dist(runs, N):\n",
        "\n",
        "    positions = range(-1*N, N+1)\n",
        "    instances = [0 for i in range(-1*N, N+1)]\n",
        "\n",
        "    for k in range(runs):\n",
        "\n",
        "        result = random_walk(pr, N, i)\n",
        "        instances[positions.index(result)] += 1\n",
        "\n",
        "    plt.bar(positions, [n/runs for n in instances])\n",
        "    plt.show()\n",
        "\n",
        "dist(10000, N)"
      ]
    },
    {
      "cell_type": "markdown",
      "metadata": {
        "id": "OWD_r1PVeSIS"
      },
      "source": [
        "That looks pretty binomial to me (which is exactly what the math predicts)! We can now plot the distribution predicted in the math, and see if the two are the same:"
      ]
    },
    {
      "cell_type": "code",
      "execution_count": null,
      "metadata": {
        "id": "v_gPZiJAeSIT",
        "outputId": "c41eb932-e2a8-422e-abe4-d6aa9980125d",
        "colab": {
          "base_uri": "https://localhost:8080/",
          "height": 430
        }
      },
      "outputs": [
        {
          "output_type": "display_data",
          "data": {
            "text/plain": [
              "<Figure size 640x480 with 1 Axes>"
            ],
            "image/png": "[encoded data removed]"
          },
          "metadata": {}
        }
      ],
      "source": [
        "def height_calculate(x, N, pr):\n",
        "\n",
        "    a = (N + x)/2\n",
        "    b = (N - x)/2\n",
        "\n",
        "    if (x%2 == 0):\n",
        "        var = scipy.special.binom(N, a)*(pr**a)*((1-pr)**b)\n",
        "    else:\n",
        "        var = 0\n",
        "    return var\n",
        "\n",
        "positions = range(-1*N, N+1)\n",
        "heights = [height_calculate(x, N, pr) for x in positions]\n",
        "plt.bar(positions, heights)\n",
        "plt.show()"
      ]
    },
    {
      "cell_type": "markdown",
      "metadata": {
        "id": "2RfFKu5meSIV"
      },
      "source": [
        "As you can see, the distributions look very similar, with the midpoint having a probability of a little bit over $0.1$ in both graphs. Note that as we increase the `runs` variable, our simulated distribution will resemble our theoretical distribution more and more, as one would expect:"
      ]
    },
    {
      "cell_type": "code",
      "execution_count": null,
      "metadata": {
        "id": "vYNMRN2neSIV",
        "outputId": "bede173a-9b94-4224-c14e-d2abd6d36539",
        "colab": {
          "base_uri": "https://localhost:8080/",
          "height": 1000
        }
      },
      "outputs": [
        {
          "output_type": "display_data",
          "data": {
            "text/plain": [
              "<Figure size 640x480 with 1 Axes>"
            ],
            "image/png": "[encoded data removed]"
          },
          "metadata": {}
        },
        {
          "output_type": "display_data",
          "data": {
            "text/plain": [
              "<Figure size 640x480 with 1 Axes>"
            ],
            "image/png": "[encoded data removed]"
          },
          "metadata": {}
        },
        {
          "output_type": "display_data",
          "data": {
            "text/plain": [
              "<Figure size 640x480 with 1 Axes>"
            ],
            "image/png": "[encoded data removed]"
          },
          "metadata": {}
        },
        {
          "output_type": "display_data",
          "data": {
            "text/plain": [
              "<Figure size 640x480 with 1 Axes>"
            ],
            "image/png": "[encoded data removed]"
          },
          "metadata": {}
        },
        {
          "output_type": "display_data",
          "data": {
            "text/plain": [
              "<Figure size 640x480 with 1 Axes>"
            ],
            "image/png": "[encoded data removed]"
          },
          "metadata": {}
        }
      ],
      "source": [
        "run_range = [50, 100, 500, 1000, 5000, 10000]\n",
        "for run in run_range:\n",
        "    dist(run, N)"
      ]
    },
    {
      "cell_type": "markdown",
      "metadata": {
        "id": "gDUJGnrueSIY"
      },
      "source": [
        "## Quantum walks\n",
        "\n",
        "The process of the quantum walk isn't that much different from its classical counterpart, although\n",
        "the observed results of the two processes have many differences. First, let us motivate the creation of a\n",
        "QW. The idea is that when one performs analysis on a classical random walk, you can find that\n",
        "$\\sigma^2 \\ \\sim \\ T$, where $\\sigma$ is the standard deviation of the random walk's probability distribution,\n",
        "and $T$ is the number of time-steps of the random walk. For the quantum walk, we can see that\n",
        "$\\sigma^2 \\ \\sim \\ T^2$. In other words, the standard deviation grows at a quadratically faster rate.\n",
        "At a high level, this signifies that the quantum walker \"spreads out\" quadratically faster than the\n",
        "classical one, showing that the process of a QW is quadratically faster than its classical counterpart.\n",
        "\n",
        "\n",
        "In order to create a quantum walk, we have to translate the components of the classical random walk\n",
        "to a quantum problem. We can encode the position of a \"walker\" in some $n$ -dimensional space with a vector\n",
        "$\\lvert j\\rangle$. For the purpose of this project, we will be investigating a basic case of a\n",
        "random walk on a ring-shaped graph, with adjacent nodes connected by a single edge. The configuration\n",
        "looks something like this:\n",
        "\n",
        "\n",
        "<img src=\"https://github.com/quantumlib/Cirq/blob/main/docs/images/cycle.png?raw=1\" style=\"width:550px;height:500px;\">\n",
        "\n",
        "\n",
        "Going back to our original idea of some position vector $\\lvert j\\rangle$, it is apparent that in order to\n",
        "encode the location of a \"walker\" on this graph, we need to assign a specific value of our position vector\n",
        "to each node. Well, this is fairly simple, for a graph of $K$ nodes, we form a Hilbert space\n",
        "$H_W$ spanned by the following set:\n",
        "\n",
        "\n",
        "$$H_W \\ = \\ \\{\\lvert j\\rangle \\ : \\ j \\ = \\ 0, \\ ..., \\ K \\ - \\ 1 \\}$$\n",
        "\n",
        "\n",
        "We also require another vector in order to create a random walk. We need a \"coin vector\", which will encode\n",
        "the direction in which the random walk will progress at the $T$-th step of the process. This Hilbert space\n",
        "is spanned by the two basis states, representing forward and backward progression on our number-line-like\n",
        "graph (actually, our graph looks more like a ring, so the two basis states will represent\n",
        "clockwise and counter-clockwise motion, but it's the same idea). We will call this Hilbert space $H_C$,\n",
        "and we can again define our spanning set:\n",
        "\n",
        "\n",
        "$$H_C \\ = \\ \\{\\lvert i\\rangle \\ : \\ i \\ = \\ \\downarrow, \\ \\uparrow\\rangle\\}$$\n",
        "\n",
        "\n",
        "Where the upward-arrow symbol represent counter-clockwise motion, and the downward arrow represents\n",
        "clock-wise motion. Now that we have defined all of the vectors we need to encode the information about\n",
        "our random walk, we must understand how we can realize these vectors in our quantum algorithm. Well, this is\n",
        "again fairly simple. For a graph of $K \\ = \\ 2^n$ nodes, we require $n$ qubits to encode binary representations\n",
        "of numbers ranging from $0$ to $K \\ - \\ 1$, therefore each of the vectors spanning $H_W$ will be given\n",
        "by the binary representation of $j$ corresponding to the basis vector $\\lvert j\\rangle$. For the coin vector,\n",
        "since we have only two states, we only need one qubit to encode the two possible states:\n",
        "\n",
        "\n",
        "$$\\lvert 0\\rangle \\ = \\ \\lvert \\uparrow\\rangle \\ \\ \\text{and} \\ \\ \\lvert 1\\rangle \\ = \\ \\lvert \\downarrow\\rangle$$\n",
        "\n",
        "\n",
        "In order to represent the total space of all possible states of our system, we take the tensor product of the\n",
        "two spanning sets, which will then span the new Hilbert space $H_C \\ \\otimes \\ H_W$. We will write a general\n",
        "element of this Hilbert space as $\\lvert i\\rangle \\ \\otimes \\ \\lvert j\\rangle$.\n",
        "\n",
        "Moving right along, we now require a method to evolve our walk forward at each step. We define a random\n",
        "walk evolution operator as follows:\n",
        "\n",
        "\n",
        "$$U \\ = \\ \\lvert \\uparrow\\rangle\\langle\\uparrow\\lvert  \\ \\otimes \\ \\displaystyle\\sum_{j} \\ \\lvert j \\ + \\ 1\\rangle\\langle j\\lvert  \\ + \\ \\lvert \\downarrow\\rangle\\langle\\downarrow\\lvert  \\ \\otimes \\ \\displaystyle\\sum_{j} \\ \\lvert j \\ - \\ 1\\rangle\\langle j\\lvert $$\n",
        "\n",
        "\n",
        "Essentially, since our qubits take on states $\\lvert 0\\rangle$ and $\\lvert 1\\rangle$, we know that\n",
        "any possible, general basis state vector formed from qubits $\\lvert n\\rangle^{\\otimes \\ N}$ will be orthogonal to\n",
        "all other vectors in the basis spanning the space. Because of this, we can create an operator that first\n",
        "\"picks out\" the coin vector's state (the other term just goes to $0$, as, like I said, the states or orthogonal),\n",
        "and then sums over all possible position states until it finds the position state to which the operator is\n",
        "being applied. The inner product of the vector and itself is just one (the vectors are not only orthogonal,\n",
        "they're orthonormal!), and the new position state of the vector is $\\lvert j \\ \\pm \\ 1\\rangle$, depending on\n",
        "the state of the coin vector. This did exactly what we wanted, it evolved our walk either forward or\n",
        "backwards by one step! If you're still not convinced, let's check to see what happens when we have the state\n",
        "$\\lvert \\uparrow\\rangle \\ \\otimes \\ \\lvert 1\\rangle$ and we apply the $U$ operator:\n",
        "\n",
        "\n",
        "  $$U (\\lvert \\uparrow\\rangle \\ \\otimes \\ \\lvert 1\\rangle) \\  \\ = \\ \\Big( \\ \\lvert \\uparrow\\rangle\\langle\\uparrow\\lvert  \\ \\otimes \\ \\displaystyle\\sum_{j} \\ \\lvert j \\ + \\ 1\\rangle\\langle j\\lvert  \\ + \\ \\lvert \\downarrow\\rangle\\langle\\downarrow\\lvert  \\ \\otimes \\ \\displaystyle\\sum_{j} \\ \\lvert j \\ - \\ 1\\rangle\\langle j\\lvert  \\Big )(\\lvert \\uparrow\\rangle \\ \\otimes \\ \\lvert 1\\rangle)$$\n",
        "  \n",
        "  $$\\Rightarrow \\ \\lvert \\uparrow\\rangle\\langle\\uparrow\\lvert  \\uparrow\\rangle \\ \\otimes \\ \\displaystyle\\sum_{j} \\ \\lvert j \\ + \\ 1\\rangle\\langle j\\lvert  1\\rangle \\ + \\ \\lvert \\downarrow\\rangle\\langle\\downarrow\\lvert  \\uparrow\\rangle \\ \\otimes \\ \\displaystyle\\sum_{j} \\ \\lvert j \\ - \\ 1\\rangle\\langle j\\lvert  1\\rangle$$\n",
        "\n",
        "\n",
        "  $$\\Rightarrow \\ \\lvert \\uparrow\\rangle \\ \\otimes \\ \\lvert 2\\rangle \\ + \\ 0\\lvert \\downarrow\\rangle \\ \\otimes \\ \\lvert 0\\rangle \\ = \\ \\lvert \\uparrow\\rangle \\ \\otimes \\ \\lvert 2\\rangle$$\n",
        "\n",
        "\n",
        "  As you can see, it works! Now, we must consider the randomness of the classical random walk. For the purposes of our\n",
        "  quantum walk, we will \"set\" $p_{r} \\ = \\ 0.5$, and therefore make $p_{l} \\ = \\ 0.5$ as well. At each time step,\n",
        "  it is necessary that we randomly flip the state of our coin vector $\\lvert i\\rangle$. The Hadamard\n",
        "  transformation seems like a natural choice, as:\n",
        "\n",
        "\n",
        "  $$H \\ = \\ \\frac{1}{\\sqrt{2}}\\begin{pmatrix} 1 && 1 \\\\ 1 && -1 \\end{pmatrix} \\ \\Rightarrow \\ H \\lvert  \\uparrow\\rangle \\ = \\ \\frac{\\lvert  \\uparrow\\rangle  \\ + \\ \\lvert  \\downarrow\\rangle }{\\sqrt{2}} \\ \\Rightarrow \\ H \\lvert  \\downarrow\\rangle \\ = \\ \\frac{\\lvert  \\uparrow\\rangle  \\ - \\ \\lvert  \\downarrow\\rangle }{\\sqrt{2}}$$\n",
        "\n",
        "\n",
        "  The probability of measuring one of the basis states is given by squaring the coefficient in the linear combination, which we can see for both outcomes is equal to $0.5$, the same probability of a step to the\n",
        "  right/step to the left that we originally desired. We can now combine our operators into one complete operator\n",
        "  that works as one complete step of the random walk, including randomizing the coin vector:\n",
        "\n",
        "\n",
        "  $$S \\ = \\ U \\ (H \\ \\otimes \\ I)$$"
      ]
    },
    {
      "cell_type": "markdown",
      "metadata": {
        "id": "_wnnbzjueSIY"
      },
      "source": [
        "## Build a quantum walk with Cirq\n",
        "\n",
        "Now, that we have established all of the necessary mathematical rigour to create a quantum walk, we\n",
        "need to translate this into code. We can start by creating a qubit register, which will be used to represent\n",
        "all of the position vectors on our graph. Recall that for an $N$ qubit register, we can encode all numbers\n",
        "ranging from $0$ to $2^N \\ - \\ 1$. For now, we will set $N \\ = \\ 7$:"
      ]
    },
    {
      "cell_type": "code",
      "execution_count": null,
      "metadata": {
        "id": "RkBMqo70eSIZ"
      },
      "outputs": [],
      "source": [
        "number_qubits = 7\n",
        "qubits = cirq.GridQubit.rect(1, number_qubits)\n",
        "\n",
        "print(qubits)"
      ]
    },
    {
      "cell_type": "markdown",
      "metadata": {
        "id": "7O7H2NaDeSIb"
      },
      "source": [
        "Next, we have to initialize our qubit register into some initial state. This can vary quite a bit, depending on\n",
        "the simulation that we want to make. To start, let's say that our initial position vector for our \"walker\"\n",
        "is roughly in the middle of the graph (not exactly, as we have an even number of position vector values). Let's\n",
        "also say that our coin vector is initialized in the $|\\downarrow\\rangle$ state. Since $|\\downarrow\\rangle$ corresponds to $|1\\rangle$, the only operations that have to be performed in this qubit initialization method is\n",
        "an $X$ gate acting on ``GridQubit(0, 1)`` (initializing the position vector), as well as an $X$ gate acting on\n",
        "the coin qubit:"
      ]
    },
    {
      "cell_type": "code",
      "execution_count": null,
      "metadata": {
        "id": "HFrIjhl7eSIb"
      },
      "outputs": [],
      "source": [
        "def initial_state():\n",
        "\n",
        "    yield cirq.X.on(cirq.GridQubit(0, 1))\n",
        "    yield cirq.X.on(cirq.GridQubit(0, number_qubits))"
      ]
    },
    {
      "cell_type": "markdown",
      "metadata": {
        "id": "NVF4aqEveSIf"
      },
      "source": [
        "Now that we have created and initialized our qubit register, we have to create an operation that can evolve\n",
        "our walk forward by one step. At a high level, our evolution operation will follow this process:\n",
        "\n",
        "1. \"Flip\" the coin qubit. The result of this \"flip\" will tell us in which direction our random walker should move. This \"flip\" operation is nothing more than a Hadamard transformation applied to the coin qubit after each evolution operation.\n",
        "\n",
        "\n",
        "2. Based on the state of the coin qubit after the flip, either perform the operation $|j\\rangle \\ \\rightarrow \\ |j \\ + \\ 1\\rangle$ or $|j\\rangle \\ \\rightarrow \\ |j \\ - \\ 1\\rangle$ on the register of qubits encoding the position vector of the walker on the graph. This will involve having two operations controlled by opposite states of the coin quibt, each representing a step forward or a step backward on the graph. Thus, our evolution operation will look something like this:\n",
        "\n",
        "<img src=\"https://github.com/quantumlib/Cirq/blob/main/docs/images/circ2.png?raw=1\" style=\"width:400px;height:170px;margin-left:25%\">\n",
        "\n",
        "\n",
        "If we construct our evolution operator in this fashion, the coin qubit is able to dictate whether the walker\n",
        "steps forwards or backwards without ever having to be measured!\n",
        "\n",
        "\n",
        "Now that we have a high-level setup for our evolution operator, we have to construct the \"step forward\" and\n",
        "\"step backward\" operations. These are nothing more than an addition and a subtraction operator, each of with\n",
        "adds or subtracts $1$ from the position vector.\n",
        "\n",
        "\n",
        "Before we actually dive into making the addition and subtraction operators, it will be useful for us to define\n",
        "an operation which we will call an <i>n-qubit Toffoli gate</i>. The name is pretty self-explanatory, it is just\n",
        "an $X$ gate that is controlled by an arbitrary number of qubits $n$, rather than only $1$ or $2$ in the\n",
        "standard $CNOT$ and Toffoli gates. In order to implement this, we can use the built-in function Cirq: `cirq.X(target).controlled_by(*controls)` (see Appendix A for an exact implementation of this gate with $CNOT$s)."
      ]
    },
    {
      "cell_type": "markdown",
      "metadata": {
        "id": "cVLaX59jeSIf"
      },
      "source": [
        "Now we can get back to creating the addition and subtraction operators. Starting with the addition operator,\n",
        "the idea is:\n",
        "\n",
        "\n",
        "\n",
        "1. Have a $CNOT$ gate controlled by the coin qubit targeting the least significant qubit. This means that if the coin qubit is in the \"move forward\" state, the addition operator will be activated.\n",
        "\n",
        "\n",
        "2. Apply an $X$ gate to the qubit that was just targeted by the $CNOT$ gate.\n",
        "\n",
        "\n",
        "3. Apply a Toffoli gate controlled by the coin qubit and the qubit on which the $X$ gate was just placed, targetting the second least-significant qubit. This acts as a \"carry operation\", meaning that if the coin qubit is in the addition state, and the least significant qubit is in the $|0\\rangle$ state (meaning it was in the $|1\\rangle$ state, but had the $CNOT$ operation applied to it, we had to apply the $X$ gate to flip it back to the $|1\\rangle$ state so it can activate the Toffoli gate), then flip the value of the next qubit, signifying that the addition mod $2$ carried over a one to the next digit of the number.\n",
        "\n",
        "\n",
        "4. Continue this process with $n$-qubit Toffoli gates controlled by all qubits less significant than the target qubit, along with the coin qubit until all qubits have had Toffoli gates applied.\n",
        "\n",
        "\n",
        "5. Apply $X$ gates to all qubits in the position vector register, as they all had $X$ gates applied to them in the process of addition (This jusst cancels out when we apply the inverse operator to perform subtraction).\n",
        "\n",
        "For the subtraction operator, we can make use of the fact that quantum operations are reversible, meaning that if\n",
        "we have some addition unitary $A$, such that $A |j\\rangle \\ = \\ |j \\ + \\ 1\\rangle$, then:\n",
        "\n",
        "\n",
        "$$A^{\\dagger}A |j\\rangle \\ = \\ A^{\\dagger}|j \\ + \\ 1\\rangle \\ \\Rightarrow \\ A^{\\dagger}|j \\ + \\ 1\\rangle \\ = \\ |j\\rangle \\ \\Rightarrow \\ A^{\\dagger}|k\\rangle \\ = \\ |k \\ - \\ 1\\rangle$$\n",
        "\n",
        "\n",
        "And so this means that $S \\ = \\ A^{\\dagger}$. Since we can decompose $A$ into a product of a bunch of unitaries,\n",
        "we get:\n",
        "\n",
        "\n",
        " $$A \\ = \\ U_1 U_2 \\ ... \\ U_n \\ \\Rightarrow \\ S \\ = \\ A^{\\dagger} \\ = \\ U_n^{\\dagger} U_{n - 1}^{\\dagger} \\ ... \\ U_{1}^{\\dagger}$$\n",
        "\n",
        "\n",
        "But our method only uses $X$ gates and controlled $X$ gates, all of which are Hermitian, thus we have:\n",
        "\n",
        "\n",
        "$$S \\ = \\ U_n^{\\dagger} U_{n - 1}^{\\dagger} \\ ... \\ U_{1}^{\\dagger} \\ = \\ U_n U_{n - 1} \\ ... \\ U_{1}$$\n",
        "\n",
        "\n",
        "So basically, our subtraction operation will just be applying our addition operator, but with the order of\n",
        "gates reversed. This allows us to create one general \"evolution operation\" for our walk, which adds\n",
        "or substract $1$ to the walker's position vector, based on the coin qubit:"
      ]
    },
    {
      "cell_type": "code",
      "execution_count": null,
      "metadata": {
        "id": "W6R9A4Y8eSIf"
      },
      "outputs": [],
      "source": [
        "def walk_step():\n",
        "\n",
        "    # \"Flip\" the coin vector\n",
        "\n",
        "    yield cirq.H.on(cirq.GridQubit(0, number_qubits))\n",
        "\n",
        "    # Implement the Addition Operator\n",
        "\n",
        "    yield cirq.X.on(cirq.GridQubit(0, number_qubits))\n",
        "\n",
        "    for i in range(number_qubits, 0, -1):\n",
        "\n",
        "        controls = [cirq.GridQubit(0, v) for v in range(number_qubits, i-1, -1)]\n",
        "        yield cirq.X.on(cirq.GridQubit(0, i-1)).controlled_by(*controls)\n",
        "        if (i > 1):\n",
        "            yield cirq.X.on(cirq.GridQubit(0, i-1))\n",
        "\n",
        "    yield cirq.X.on(cirq.GridQubit(0, number_qubits))\n",
        "\n",
        "    # Implement the Subtraction Operator\n",
        "\n",
        "    for i in range(1, number_qubits+1):\n",
        "\n",
        "        controls = [cirq.GridQubit(0, v) for v in range(number_qubits, i-1, -1)]\n",
        "        yield cirq.X.on(cirq.GridQubit(0, i-1)).controlled_by(*controls)\n",
        "        if (i < number_qubits):\n",
        "            yield cirq.X.on(cirq.GridQubit(0, i))"
      ]
    },
    {
      "cell_type": "markdown",
      "metadata": {
        "id": "A_xu4Wu3eSIh"
      },
      "source": [
        "Next, we have to append these operations to our quantum circuit, specifically iteratively apply the\n",
        "``walk_step()`` function in order to evolve our random walk forward. After we do this, we measure of position\n",
        "vector qubit register, by applying measurement gates, and we sample our circuit repeatedly. In code, for the\n",
        "example of $10$ iteration of our evolution operator, $200$ samples of the circuit, and $7$ position vector\n",
        "qubits, we have:"
      ]
    },
    {
      "cell_type": "code",
      "execution_count": null,
      "metadata": {
        "id": "pNUx1-cieSIi"
      },
      "outputs": [],
      "source": [
        "number_qubits = 7\n",
        "iterator = 30\n",
        "sample_number = 5000\n",
        "\n",
        "def generate_walk(number_qubits, iterator, sample_number):\n",
        "\n",
        "    circuit = cirq.Circuit()\n",
        "\n",
        "    circuit.append(initial_state())\n",
        "    for j in range(iterator):\n",
        "        circuit.append(walk_step())\n",
        "    circuit.append(cirq.measure(*qubits, key='x'))\n",
        "\n",
        "    simulator = cirq.Simulator()\n",
        "    result = simulator.run(circuit, repetitions=sample_number)\n",
        "    final = result.histogram(key='x')\n",
        "\n",
        "    return final\n",
        "\n",
        "final = generate_walk(number_qubits, iterator, sample_number)\n",
        "print(final)"
      ]
    },
    {
      "cell_type": "markdown",
      "metadata": {
        "id": "3GYt1GCSeSIk"
      },
      "source": [
        "Finally, we then graph the results of our simulation, with final position vector value on the x-axis and the\n",
        "number of occurrences of that position vector value on the y-axis. This gives us a probability distribution for\n",
        "the position of the walker. It is important to note that the graphs will only have either even or odd\n",
        "numbered data point, depending on the initial position of the walker and the number of steps taken:"
      ]
    },
    {
      "cell_type": "code",
      "execution_count": null,
      "metadata": {
        "id": "XwsurJaAeSIl"
      },
      "outputs": [],
      "source": [
        "def graph(final):\n",
        "\n",
        "    x_arr = list(final.keys())\n",
        "    y_arr = [dict(final)[j] for j in dict(final).keys()]\n",
        "\n",
        "    x_arr_final = []\n",
        "    y_arr_final = []\n",
        "\n",
        "    while (len(x_arr) > 0):\n",
        "\n",
        "        x_arr_final.append(min(x_arr))\n",
        "        y_arr_final.append(y_arr[x_arr.index(min(x_arr))])\n",
        "        holder = x_arr.index(min(x_arr))\n",
        "        del x_arr[holder]\n",
        "        del y_arr[holder]\n",
        "\n",
        "    plt.plot(x_arr_final, y_arr_final)\n",
        "    plt.scatter(x_arr_final, y_arr_final)\n",
        "    plt.show()\n",
        "\n",
        "graph(final)"
      ]
    },
    {
      "cell_type": "markdown",
      "metadata": {
        "id": "NKqY4j44eSIm"
      },
      "source": [
        "As you can see, we get a pretty strange probability distribution! This is due to the fact that repeated\n",
        "applications of the Hadamard gate to the coin qubit (which you may recall was initialized in the $|\\downarrow\\rangle$ state). Over time, interference causes our coin qubit to bias to the left, but also creates a small bump far to\n",
        "the right as well! If you think this is weird, do the math! Take a qubit in the initial state of $|1\\rangle$\n",
        "and repeatedly apply a Hadamard transformation, then calculate the probabilities of measuring $|0\\rangle$\n",
        "and $|1\\rangle$ by taking the modulus squared of the probability amplitude corresponding to each of the states.\n",
        "In fact, let's see what happens when our qubit is initialized in the $|\\uparrow\\rangle$ state:"
      ]
    },
    {
      "cell_type": "code",
      "execution_count": null,
      "metadata": {
        "id": "d6ImWP9LeSIn"
      },
      "outputs": [],
      "source": [
        "def initial_state():\n",
        "\n",
        "    yield cirq.X.on(cirq.GridQubit(0, 1))\n",
        "\n",
        "final = generate_walk(number_qubits, iterator, sample_number)\n",
        "graph(final)"
      ]
    },
    {
      "cell_type": "markdown",
      "metadata": {
        "id": "fGTIGB55eSIo"
      },
      "source": [
        "Cool, right!? It's the mirror image of what we saw when the coin qubit was in the other state. Let's try one\n",
        "more thing, let's initialize our coin qubit in a \"balanced\" state, where interference doesn't bias our\n",
        "distribution towards only one side! We will set our initial state to:\n",
        "\n",
        "\n",
        "$$|i\\rangle \\ = \\ \\frac{|\\uparrow\\rangle \\ + \\ i|\\downarrow\\rangle}{\\sqrt{2}}$$\n",
        "\n",
        "\n",
        "This is implemented by applying a Hadamard gate to $|\\uparrow\\rangle$, and then applying an $S$ gate to\n",
        "the qubit. When we simulate this with Cirq, we get:"
      ]
    },
    {
      "cell_type": "code",
      "execution_count": null,
      "metadata": {
        "id": "s71ObhP6eSIp"
      },
      "outputs": [],
      "source": [
        "def initial_state():\n",
        "\n",
        "    yield cirq.X.on(cirq.GridQubit(0, 1))\n",
        "\n",
        "    yield cirq.H.on(cirq.GridQubit(0, number_qubits))\n",
        "    yield cirq.S.on(cirq.GridQubit(0, number_qubits))\n",
        "\n",
        "final = generate_walk(number_qubits, iterator, sample_number)\n",
        "graph(final)"
      ]
    },
    {
      "cell_type": "markdown",
      "metadata": {
        "id": "DLwLycjteSIr"
      },
      "source": [
        "So we get a probability distribution that is much more symmetric!\n",
        "\n",
        "Random walks have applications in so many fields of scientific inquiry, ranging from biology, to\n",
        "computer science, to finance. I definitely think there are a lot of possible great extensions to this basic\n",
        "example of a QW and many more great projects that can be made by utilizing this interesting process!\n"
      ]
    },
    {
      "cell_type": "markdown",
      "metadata": {
        "id": "6X44oHBiPQpm"
      },
      "source": [
        "## References\n",
        "\n",
        "For more information about quantum random walks, see: https://arxiv.org/abs/quant-ph/0303081\n",
        "\n",
        "For more information about applications of random walks, see: https://en.wikipedia.org/wiki/Random_walk#Applications"
      ]
    }
  ],
  "metadata": {
    "colab": {
      "toc_visible": true,
      "provenance": [],
      "include_colab_link": true
    },
    "kernelspec": {
      "display_name": "Python 3",
      "name": "python3"
    }
  },
  "nbformat": 4,
  "nbformat_minor": 0
}